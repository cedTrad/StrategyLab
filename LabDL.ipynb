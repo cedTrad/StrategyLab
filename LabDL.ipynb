{
 "cells": [
  {
   "cell_type": "code",
   "execution_count": 3,
   "metadata": {},
   "outputs": [],
   "source": [
    "\n",
    "from data.get_data import *\n",
    "\n",
    "from model.DL import create_DNN_model"
   ]
  },
  {
   "cell_type": "code",
   "execution_count": 6,
   "metadata": {},
   "outputs": [],
   "source": [
    "model = create_DNN_model(4, hu=8)"
   ]
  },
  {
   "cell_type": "code",
   "execution_count": 16,
   "metadata": {},
   "outputs": [],
   "source": [
    "start = \"2020\"\n",
    "end = \"2023\"\n",
    "\n",
    "data = Get_data(\"BTC\", \"1d\")\n",
    "data = data.loc[start : end]\n",
    "\n",
    "data[\"return\"] = data.close.pct_change().dropna()*100\n",
    "rets.name = \"returns\"\n",
    "\n",
    "ma_1 = 3\n",
    "ma_2 = 7\n",
    "ma_3 = 14\n",
    "\n",
    "\n",
    "data['returns'] = data.close.pct_change()\n",
    "\n",
    "data['ma_1'] = data[\"close\"].rolling(ma_1).mean()\n",
    "data['ma_2'] = data[\"close\"].rolling(ma_2).mean()\n",
    "data['ma_3'] = data[\"close\"].rolling(ma_3).mean()"
   ]
  },
  {
   "cell_type": "code",
   "execution_count": 22,
   "metadata": {},
   "outputs": [
    {
     "name": "stderr",
     "output_type": "stream",
     "text": [
      "C:\\Users\\cc\\AppData\\Local\\Temp/ipykernel_9264/1195894848.py:3: SettingWithCopyWarning: \n",
      "A value is trying to be set on a copy of a slice from a DataFrame.\n",
      "Try using .loc[row_indexer,col_indexer] = value instead\n",
      "\n",
      "See the caveats in the documentation: https://pandas.pydata.org/pandas-docs/stable/user_guide/indexing.html#returning-a-view-versus-a-copy\n",
      "  df[\"target\"] = np.where(df[\"return\"] > 0, 1, -1)\n"
     ]
    }
   ],
   "source": [
    "df = data.dropna()\n",
    "df[\"return\"] > 1\n",
    "df[\"target\"] = np.where(df[\"return\"] > 0, 1, -1)\n",
    "\n",
    "X = df.drop(columns=[\"target\"])"
   ]
  },
  {
   "cell_type": "code",
   "execution_count": 25,
   "metadata": {},
   "outputs": [
    {
     "data": {
      "text/html": [
       "<div>\n",
       "<style scoped>\n",
       "    .dataframe tbody tr th:only-of-type {\n",
       "        vertical-align: middle;\n",
       "    }\n",
       "\n",
       "    .dataframe tbody tr th {\n",
       "        vertical-align: top;\n",
       "    }\n",
       "\n",
       "    .dataframe thead th {\n",
       "        text-align: right;\n",
       "    }\n",
       "</style>\n",
       "<table border=\"1\" class=\"dataframe\">\n",
       "  <thead>\n",
       "    <tr style=\"text-align: right;\">\n",
       "      <th></th>\n",
       "      <th>open</th>\n",
       "      <th>high</th>\n",
       "      <th>low</th>\n",
       "      <th>close</th>\n",
       "      <th>volume</th>\n",
       "      <th>symbol</th>\n",
       "      <th>return</th>\n",
       "      <th>returns</th>\n",
       "      <th>ma_1</th>\n",
       "      <th>ma_2</th>\n",
       "      <th>ma_3</th>\n",
       "      <th>target</th>\n",
       "    </tr>\n",
       "    <tr>\n",
       "      <th>time</th>\n",
       "      <th></th>\n",
       "      <th></th>\n",
       "      <th></th>\n",
       "      <th></th>\n",
       "      <th></th>\n",
       "      <th></th>\n",
       "      <th></th>\n",
       "      <th></th>\n",
       "      <th></th>\n",
       "      <th></th>\n",
       "      <th></th>\n",
       "      <th></th>\n",
       "    </tr>\n",
       "  </thead>\n",
       "  <tbody>\n",
       "    <tr>\n",
       "      <th>2020-01-14</th>\n",
       "      <td>8110.34</td>\n",
       "      <td>8880.00</td>\n",
       "      <td>8105.54</td>\n",
       "      <td>8810.01</td>\n",
       "      <td>120399.126742</td>\n",
       "      <td>BTCUSDT</td>\n",
       "      <td>8.626889</td>\n",
       "      <td>0.086269</td>\n",
       "      <td>8368.443333</td>\n",
       "      <td>8170.871429</td>\n",
       "      <td>7808.840000</td>\n",
       "      <td>1</td>\n",
       "    </tr>\n",
       "    <tr>\n",
       "      <th>2020-01-15</th>\n",
       "      <td>8814.64</td>\n",
       "      <td>8916.48</td>\n",
       "      <td>8564.00</td>\n",
       "      <td>8821.41</td>\n",
       "      <td>84816.297606</td>\n",
       "      <td>BTCUSDT</td>\n",
       "      <td>0.129398</td>\n",
       "      <td>0.001294</td>\n",
       "      <td>8580.586667</td>\n",
       "      <td>8280.218571</td>\n",
       "      <td>7924.594286</td>\n",
       "      <td>1</td>\n",
       "    </tr>\n",
       "    <tr>\n",
       "      <th>2020-01-16</th>\n",
       "      <td>8820.01</td>\n",
       "      <td>8859.81</td>\n",
       "      <td>8586.00</td>\n",
       "      <td>8720.01</td>\n",
       "      <td>51991.074284</td>\n",
       "      <td>BTCUSDT</td>\n",
       "      <td>-1.149476</td>\n",
       "      <td>-0.011495</td>\n",
       "      <td>8783.810000</td>\n",
       "      <td>8409.111429</td>\n",
       "      <td>8049.901429</td>\n",
       "      <td>-1</td>\n",
       "    </tr>\n",
       "    <tr>\n",
       "      <th>2020-01-17</th>\n",
       "      <td>8720.15</td>\n",
       "      <td>9041.65</td>\n",
       "      <td>8672.44</td>\n",
       "      <td>8913.28</td>\n",
       "      <td>70897.737377</td>\n",
       "      <td>BTCUSDT</td>\n",
       "      <td>2.216397</td>\n",
       "      <td>0.022164</td>\n",
       "      <td>8818.233333</td>\n",
       "      <td>8511.434286</td>\n",
       "      <td>8161.924286</td>\n",
       "      <td>1</td>\n",
       "    </tr>\n",
       "    <tr>\n",
       "      <th>2020-01-18</th>\n",
       "      <td>8913.27</td>\n",
       "      <td>8988.88</td>\n",
       "      <td>8806.38</td>\n",
       "      <td>8915.96</td>\n",
       "      <td>38294.746545</td>\n",
       "      <td>BTCUSDT</td>\n",
       "      <td>0.030067</td>\n",
       "      <td>0.000301</td>\n",
       "      <td>8849.750000</td>\n",
       "      <td>8639.427143</td>\n",
       "      <td>8273.485000</td>\n",
       "      <td>1</td>\n",
       "    </tr>\n",
       "  </tbody>\n",
       "</table>\n",
       "</div>"
      ],
      "text/plain": [
       "               open     high      low    close         volume   symbol  \\\n",
       "time                                                                     \n",
       "2020-01-14  8110.34  8880.00  8105.54  8810.01  120399.126742  BTCUSDT   \n",
       "2020-01-15  8814.64  8916.48  8564.00  8821.41   84816.297606  BTCUSDT   \n",
       "2020-01-16  8820.01  8859.81  8586.00  8720.01   51991.074284  BTCUSDT   \n",
       "2020-01-17  8720.15  9041.65  8672.44  8913.28   70897.737377  BTCUSDT   \n",
       "2020-01-18  8913.27  8988.88  8806.38  8915.96   38294.746545  BTCUSDT   \n",
       "\n",
       "              return   returns         ma_1         ma_2         ma_3  target  \n",
       "time                                                                           \n",
       "2020-01-14  8.626889  0.086269  8368.443333  8170.871429  7808.840000       1  \n",
       "2020-01-15  0.129398  0.001294  8580.586667  8280.218571  7924.594286       1  \n",
       "2020-01-16 -1.149476 -0.011495  8783.810000  8409.111429  8049.901429      -1  \n",
       "2020-01-17  2.216397  0.022164  8818.233333  8511.434286  8161.924286       1  \n",
       "2020-01-18  0.030067  0.000301  8849.750000  8639.427143  8273.485000       1  "
      ]
     },
     "execution_count": 25,
     "metadata": {},
     "output_type": "execute_result"
    }
   ],
   "source": [
    "df.head()"
   ]
  },
  {
   "cell_type": "code",
   "execution_count": 27,
   "metadata": {},
   "outputs": [
    {
     "ename": "ValueError",
     "evalue": "Failed to convert a NumPy array to a Tensor (Unsupported object type float).",
     "output_type": "error",
     "traceback": [
      "\u001b[1;31m---------------------------------------------------------------------------\u001b[0m",
      "\u001b[1;31mValueError\u001b[0m                                Traceback (most recent call last)",
      "\u001b[1;32m~\\AppData\\Local\\Temp/ipykernel_9264/1500334604.py\u001b[0m in \u001b[0;36m<module>\u001b[1;34m\u001b[0m\n\u001b[1;32m----> 1\u001b[1;33m \u001b[0mmodel\u001b[0m\u001b[1;33m.\u001b[0m\u001b[0mfit\u001b[0m\u001b[1;33m(\u001b[0m\u001b[0mX\u001b[0m\u001b[1;33m,\u001b[0m \u001b[0mdf\u001b[0m\u001b[1;33m[\u001b[0m\u001b[1;34m\"target\"\u001b[0m\u001b[1;33m]\u001b[0m\u001b[1;33m,\u001b[0m \u001b[0mepochs\u001b[0m\u001b[1;33m=\u001b[0m\u001b[1;36m50\u001b[0m\u001b[1;33m,\u001b[0m \u001b[0mverbose\u001b[0m\u001b[1;33m=\u001b[0m\u001b[1;32mFalse\u001b[0m\u001b[1;33m,\u001b[0m \u001b[0mvalidation_split\u001b[0m\u001b[1;33m=\u001b[0m\u001b[1;36m0.2\u001b[0m\u001b[1;33m,\u001b[0m \u001b[0mshuffle\u001b[0m\u001b[1;33m=\u001b[0m\u001b[1;32mFalse\u001b[0m\u001b[1;33m)\u001b[0m\u001b[1;33m\u001b[0m\u001b[1;33m\u001b[0m\u001b[0m\n\u001b[0m",
      "\u001b[1;32mc:\\Users\\cc\\AppData\\Local\\Programs\\Python\\Python39\\lib\\site-packages\\keras\\utils\\traceback_utils.py\u001b[0m in \u001b[0;36merror_handler\u001b[1;34m(*args, **kwargs)\u001b[0m\n\u001b[0;32m     68\u001b[0m             \u001b[1;31m# To get the full stack trace, call:\u001b[0m\u001b[1;33m\u001b[0m\u001b[1;33m\u001b[0m\u001b[1;33m\u001b[0m\u001b[0m\n\u001b[0;32m     69\u001b[0m             \u001b[1;31m# `tf.debugging.disable_traceback_filtering()`\u001b[0m\u001b[1;33m\u001b[0m\u001b[1;33m\u001b[0m\u001b[1;33m\u001b[0m\u001b[0m\n\u001b[1;32m---> 70\u001b[1;33m             \u001b[1;32mraise\u001b[0m \u001b[0me\u001b[0m\u001b[1;33m.\u001b[0m\u001b[0mwith_traceback\u001b[0m\u001b[1;33m(\u001b[0m\u001b[0mfiltered_tb\u001b[0m\u001b[1;33m)\u001b[0m \u001b[1;32mfrom\u001b[0m \u001b[1;32mNone\u001b[0m\u001b[1;33m\u001b[0m\u001b[1;33m\u001b[0m\u001b[0m\n\u001b[0m\u001b[0;32m     71\u001b[0m         \u001b[1;32mfinally\u001b[0m\u001b[1;33m:\u001b[0m\u001b[1;33m\u001b[0m\u001b[1;33m\u001b[0m\u001b[0m\n\u001b[0;32m     72\u001b[0m             \u001b[1;32mdel\u001b[0m \u001b[0mfiltered_tb\u001b[0m\u001b[1;33m\u001b[0m\u001b[1;33m\u001b[0m\u001b[0m\n",
      "\u001b[1;32mc:\\Users\\cc\\AppData\\Local\\Programs\\Python\\Python39\\lib\\site-packages\\tensorflow\\python\\framework\\constant_op.py\u001b[0m in \u001b[0;36mconvert_to_eager_tensor\u001b[1;34m(value, ctx, dtype)\u001b[0m\n\u001b[0;32m    101\u001b[0m       \u001b[0mdtype\u001b[0m \u001b[1;33m=\u001b[0m \u001b[0mdtypes\u001b[0m\u001b[1;33m.\u001b[0m\u001b[0mas_dtype\u001b[0m\u001b[1;33m(\u001b[0m\u001b[0mdtype\u001b[0m\u001b[1;33m)\u001b[0m\u001b[1;33m.\u001b[0m\u001b[0mas_datatype_enum\u001b[0m\u001b[1;33m\u001b[0m\u001b[1;33m\u001b[0m\u001b[0m\n\u001b[0;32m    102\u001b[0m   \u001b[0mctx\u001b[0m\u001b[1;33m.\u001b[0m\u001b[0mensure_initialized\u001b[0m\u001b[1;33m(\u001b[0m\u001b[1;33m)\u001b[0m\u001b[1;33m\u001b[0m\u001b[1;33m\u001b[0m\u001b[0m\n\u001b[1;32m--> 103\u001b[1;33m   \u001b[1;32mreturn\u001b[0m \u001b[0mops\u001b[0m\u001b[1;33m.\u001b[0m\u001b[0mEagerTensor\u001b[0m\u001b[1;33m(\u001b[0m\u001b[0mvalue\u001b[0m\u001b[1;33m,\u001b[0m \u001b[0mctx\u001b[0m\u001b[1;33m.\u001b[0m\u001b[0mdevice_name\u001b[0m\u001b[1;33m,\u001b[0m \u001b[0mdtype\u001b[0m\u001b[1;33m)\u001b[0m\u001b[1;33m\u001b[0m\u001b[1;33m\u001b[0m\u001b[0m\n\u001b[0m\u001b[0;32m    104\u001b[0m \u001b[1;33m\u001b[0m\u001b[0m\n\u001b[0;32m    105\u001b[0m \u001b[1;33m\u001b[0m\u001b[0m\n",
      "\u001b[1;31mValueError\u001b[0m: Failed to convert a NumPy array to a Tensor (Unsupported object type float)."
     ]
    }
   ],
   "source": [
    "model.fit(X, df[\"target\"], epochs=50, verbose=False, validation_split=0.2, shuffle=False)"
   ]
  }
 ],
 "metadata": {
  "kernelspec": {
   "display_name": "Python 3",
   "language": "python",
   "name": "python3"
  },
  "language_info": {
   "codemirror_mode": {
    "name": "ipython",
    "version": 3
   },
   "file_extension": ".py",
   "mimetype": "text/x-python",
   "name": "python",
   "nbconvert_exporter": "python",
   "pygments_lexer": "ipython3",
   "version": "3.9.6"
  },
  "orig_nbformat": 4
 },
 "nbformat": 4,
 "nbformat_minor": 2
}
