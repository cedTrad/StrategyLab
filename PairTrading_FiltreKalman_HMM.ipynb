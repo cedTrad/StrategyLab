{
 "cells": [
  {
   "cell_type": "code",
   "execution_count": null,
   "metadata": {},
   "outputs": [],
   "source": [
    "import pandas as pd\n",
    "import numpy as np\n",
    "import sqlalchemy\n",
    "from datetime import datetime\n",
    "import time\n",
    "import ta\n",
    "import plotly.express as px\n",
    "import plotly.graph_objects as go\n",
    "from plotly.subplots import make_subplots\n",
    "from IPython.display import clear_output\n",
    "\n",
    "import warnings\n",
    "warnings.filterwarnings('ignore')\n",
    "\n",
    "%load_ext autoreload\n",
    "%autoreload 2\n",
    "\n",
    "path = \"C:/Users/cc/Desktop/CedAlgo/AlgoTrading/database/\"\n",
    "\n",
    "def get_data(Id , interval):\n",
    "    engine = sqlalchemy.create_engine('sqlite:///'+path+'database_{}.db'.format(interval))\n",
    "    \n",
    "    data = pd.read_sql(Id+'USDT' ,engine)\n",
    "    data.set_index('time' , inplace=True)\n",
    "    data['volume'] = pd.to_numeric(data['volume'])\n",
    "    data = data[['open', 'high', 'low' , 'close' , 'volume', 'symbol', 'close_time']]\n",
    "    return data\n",
    "\n",
    "\n",
    "def get_multi_base(interval, table = 'close'):\n",
    "    engine = sqlalchemy.create_engine('sqlite:///'+path+'database_multi_{}.db'.format(interval))\n",
    "    data = pd.read_sql(table ,engine)\n",
    "    data.set_index('time', inplace = True)\n",
    "    data.dropna(inplace = True)\n",
    "    return data\n",
    "\n"
   ]
  },
  {
   "attachments": {},
   "cell_type": "markdown",
   "metadata": {},
   "source": [
    "# Cointegration Pairs Trade et Pairs Selection"
   ]
  },
  {
   "cell_type": "code",
   "execution_count": null,
   "metadata": {},
   "outputs": [],
   "source": [
    "def linear_OLS(x_arr, y_arr):\n",
    "    "
   ]
  },
  {
   "cell_type": "code",
   "execution_count": null,
   "metadata": {},
   "outputs": [],
   "source": []
  }
 ],
 "metadata": {
  "kernelspec": {
   "display_name": "Python 3",
   "language": "python",
   "name": "python3"
  },
  "language_info": {
   "name": "python",
   "version": "3.9.6"
  },
  "orig_nbformat": 4
 },
 "nbformat": 4,
 "nbformat_minor": 2
}
