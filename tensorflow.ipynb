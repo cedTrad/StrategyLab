{
 "cells": [
  {
   "cell_type": "code",
   "execution_count": 22,
   "metadata": {},
   "outputs": [
    {
     "name": "stdout",
     "output_type": "stream",
     "text": [
      "2.14.0\n"
     ]
    }
   ],
   "source": [
    "import tensorflow as tf\n",
    "print(tf.__version__)"
   ]
  },
  {
   "cell_type": "code",
   "execution_count": 23,
   "metadata": {},
   "outputs": [],
   "source": [
    "import tensorflow as tf\n",
    "\n",
    "import tensorflow.compat.v1 as tf\n",
    "tf.disable_v2_behavior()"
   ]
  },
  {
   "cell_type": "code",
   "execution_count": 24,
   "metadata": {},
   "outputs": [
    {
     "name": "stdout",
     "output_type": "stream",
     "text": [
      "b'Hello TensorFlow!'\n"
     ]
    }
   ],
   "source": [
    "hello = tf.constant(\"Hello TensorFlow!\")\n",
    "\n",
    "sess = tf.Session()\n",
    "\n",
    "print(sess.run(hello))"
   ]
  },
  {
   "cell_type": "code",
   "execution_count": 25,
   "metadata": {},
   "outputs": [],
   "source": [
    "a = tf.multiply(8, 5)\n",
    "b = tf.multiply(4, 3)"
   ]
  },
  {
   "cell_type": "code",
   "execution_count": 26,
   "metadata": {},
   "outputs": [
    {
     "data": {
      "text/plain": [
       "<tf.Variable 'Variable:0' shape=() dtype=int32_ref>"
      ]
     },
     "execution_count": 26,
     "metadata": {},
     "output_type": "execute_result"
    }
   ],
   "source": [
    "x = tf.Variable(13)\n",
    "x"
   ]
  },
  {
   "cell_type": "code",
   "execution_count": 27,
   "metadata": {},
   "outputs": [
    {
     "data": {
      "text/plain": [
       "<tf.Variable 'weights:0' shape=(500, 111) dtype=float32_ref>"
      ]
     },
     "execution_count": 27,
     "metadata": {},
     "output_type": "execute_result"
    }
   ],
   "source": [
    "W = tf.Variable(tf.random_normal([500, 111], stddev=0.35), name=\"weights\")\n",
    "W"
   ]
  },
  {
   "cell_type": "code",
   "execution_count": 28,
   "metadata": {},
   "outputs": [
    {
     "data": {
      "text/plain": [
       "<tf.Operation 'init' type=NoOp>"
      ]
     },
     "execution_count": 28,
     "metadata": {},
     "output_type": "execute_result"
    }
   ],
   "source": [
    "tf.global_variables_initializer()"
   ]
  },
  {
   "cell_type": "code",
   "execution_count": 29,
   "metadata": {},
   "outputs": [
    {
     "name": "stdout",
     "output_type": "stream",
     "text": [
      "1212\n"
     ]
    }
   ],
   "source": [
    "x = tf.Variable(1212)\n",
    "init = tf.global_variables_initializer()\n",
    "with tf.Session() as sess:\n",
    "    sess.run(init)\n",
    "    print(sess.run(x))"
   ]
  },
  {
   "cell_type": "code",
   "execution_count": 30,
   "metadata": {},
   "outputs": [
    {
     "data": {
      "text/plain": [
       "<tf.Tensor 'Const_1:0' shape=() dtype=int32>"
      ]
     },
     "execution_count": 30,
     "metadata": {},
     "output_type": "execute_result"
    }
   ],
   "source": [
    "x = tf.constant(13)\n",
    "x"
   ]
  },
  {
   "cell_type": "markdown",
   "metadata": {},
   "source": [
    "## Placeholders and feed dictionaries"
   ]
  },
  {
   "cell_type": "code",
   "execution_count": 31,
   "metadata": {},
   "outputs": [
    {
     "name": "stdout",
     "output_type": "stream",
     "text": [
      "8.0\n"
     ]
    }
   ],
   "source": [
    "x = tf.placeholder(\"float\", None)\n",
    "y = x+3\n",
    "\n",
    "with tf.Session() as sess:\n",
    "    result = sess.run(y, feed_dict={x : 5})\n",
    "    print(result)"
   ]
  },
  {
   "cell_type": "markdown",
   "metadata": {},
   "source": [
    "## tensorboard"
   ]
  },
  {
   "cell_type": "code",
   "execution_count": 32,
   "metadata": {},
   "outputs": [],
   "source": [
    "import tensorflow as tf\n",
    "\n",
    "import tensorflow.compat.v1 as tf\n",
    "tf.disable_v2_behavior()"
   ]
  },
  {
   "cell_type": "code",
   "execution_count": 33,
   "metadata": {},
   "outputs": [],
   "source": [
    "tf.reset_default_graph()\n",
    "\n",
    "x = tf.constant(1, name=\"x\")\n",
    "y = tf.constant(1, name=\"y\")\n",
    "a = tf.constant(3, name=\"a\")\n",
    "b = tf.constant(3, name=\"b\")"
   ]
  },
  {
   "cell_type": "code",
   "execution_count": 34,
   "metadata": {},
   "outputs": [],
   "source": [
    "prod1 = tf.multiply(x, y, name=\"prod1\")\n",
    "prod2 = tf.multiply(a, b, name=\"prod2\")"
   ]
  },
  {
   "cell_type": "code",
   "execution_count": 35,
   "metadata": {},
   "outputs": [],
   "source": [
    "sum = tf.add(prod1, prod2, name=\"sum\")"
   ]
  },
  {
   "cell_type": "code",
   "execution_count": 36,
   "metadata": {},
   "outputs": [
    {
     "name": "stdout",
     "output_type": "stream",
     "text": [
      "10\n"
     ]
    }
   ],
   "source": [
    "with tf.Session() as sess:\n",
    "    writer = tf.summary.FileWriter(logdir=\"./graphs\", graph = sess.graph)\n",
    "    print(sess.run(sum))"
   ]
  },
  {
   "cell_type": "markdown",
   "metadata": {},
   "source": [
    "## Creating a name scope"
   ]
  },
  {
   "cell_type": "code",
   "execution_count": 37,
   "metadata": {},
   "outputs": [
    {
     "name": "stdout",
     "output_type": "stream",
     "text": [
      "10\n"
     ]
    }
   ],
   "source": [
    "with tf.name_scope(\"Product\"):\n",
    "    \n",
    "    with tf.name_scope(\"prod1\"):\n",
    "        prod1 = tf.multiply(x, y, name=\"prod1\")\n",
    "    \n",
    "    with tf.name_scope(\"prod2\"):\n",
    "        prod2 = tf.multiply(a, b, name=\"prod2\")\n",
    "    \n",
    "with tf.name_scope(\"sum\"):\n",
    "    sum = tf.add(prod1, prod2, name=\"sum\")\n",
    "    \n",
    "    \n",
    "with tf.Session() as sess:\n",
    "    writer = tf.summary.FileWriter(\"./graphs\", sess.graph)\n",
    "    print(sess.run(sum))\n",
    "    "
   ]
  },
  {
   "cell_type": "markdown",
   "metadata": {},
   "source": [
    "# Handwritten digit classification using Tensorflow"
   ]
  },
  {
   "cell_type": "code",
   "execution_count": 38,
   "metadata": {},
   "outputs": [],
   "source": [
    "import warnings\n",
    "warnings.filterwarnings('ignore')\n",
    "import tensorflow as tf\n",
    "\n",
    "from tensorflow import keras\n",
    "from tensorflow.keras.layers import Dense, Flatten, Conv2D\n",
    "from tensorflow.keras import Model\n",
    "\n"
   ]
  },
  {
   "cell_type": "code",
   "execution_count": 39,
   "metadata": {},
   "outputs": [],
   "source": [
    "import tensorflow.compat.v1 as tf\n",
    "tf.disable_v2_behavior()"
   ]
  },
  {
   "cell_type": "code",
   "execution_count": 40,
   "metadata": {},
   "outputs": [],
   "source": [
    "mnist = keras.datasets.mnist.load_data()"
   ]
  },
  {
   "cell_type": "code",
   "execution_count": 41,
   "metadata": {},
   "outputs": [
    {
     "name": "stdout",
     "output_type": "stream",
     "text": [
      "  (60000, 28, 28)\n",
      "  (60000,)\n",
      "  (10000, 28, 28)\n",
      "  (10000,)\n"
     ]
    }
   ],
   "source": [
    "data_train = mnist[0][0]\n",
    "data_train = mnist[0][1]\n",
    "data_test = mnist[1][0]\n",
    "data_test = mnist[1][1]\n",
    "\n",
    "print(\" \",mnist[0][0].shape)\n",
    "print(\" \",mnist[0][1].shape)\n",
    "print(\" \",mnist[1][0].shape)\n",
    "print(\" \",mnist[1][1].shape)"
   ]
  },
  {
   "cell_type": "code",
   "execution_count": 42,
   "metadata": {},
   "outputs": [
    {
     "ename": "NameError",
     "evalue": "name 'plt' is not defined",
     "output_type": "error",
     "traceback": [
      "\u001b[1;31m---------------------------------------------------------------------------\u001b[0m",
      "\u001b[1;31mNameError\u001b[0m                                 Traceback (most recent call last)",
      "\u001b[1;32mc:\\Users\\cedric\\Desktop\\CedAlgo\\StrategyLab\\tensorflow.ipynb Cell 25\u001b[0m line \u001b[0;36m2\n\u001b[0;32m      <a href='vscode-notebook-cell:/c%3A/Users/cedric/Desktop/CedAlgo/StrategyLab/tensorflow.ipynb#X33sZmlsZQ%3D%3D?line=0'>1</a>\u001b[0m img1 \u001b[39m=\u001b[39m mnist[\u001b[39m0\u001b[39m][\u001b[39m0\u001b[39m][\u001b[39m0\u001b[39m]\u001b[39m.\u001b[39mreshape(\u001b[39m28\u001b[39m, \u001b[39m28\u001b[39m)\n\u001b[1;32m----> <a href='vscode-notebook-cell:/c%3A/Users/cedric/Desktop/CedAlgo/StrategyLab/tensorflow.ipynb#X33sZmlsZQ%3D%3D?line=1'>2</a>\u001b[0m plt\u001b[39m.\u001b[39mimshow(img1, cmap \u001b[39m=\u001b[39m \u001b[39m\"\u001b[39m\u001b[39mGreys\u001b[39m\u001b[39m\"\u001b[39m)\n",
      "\u001b[1;31mNameError\u001b[0m: name 'plt' is not defined"
     ]
    }
   ],
   "source": [
    "img1 = mnist[0][0][0].reshape(28, 28)\n",
    "plt.imshow(img1, cmap = \"Greys\")"
   ]
  },
  {
   "cell_type": "code",
   "execution_count": null,
   "metadata": {},
   "outputs": [],
   "source": [
    "#number of neurons in input layer\n",
    "num_input = 784\n",
    "#num of neurons in hidden layer 1\n",
    "num_hidden1 = 512\n",
    "#num of neurons in hidden layer 2\n",
    "num_hidden2 = 256\n",
    "#num of neurons in hidden layer 3\n",
    "num_hidden_3 = 128\n",
    "#num of neurons in output layer\n",
    "num_output = 10"
   ]
  },
  {
   "cell_type": "markdown",
   "metadata": {},
   "source": [
    "## Placeholders"
   ]
  },
  {
   "cell_type": "code",
   "execution_count": null,
   "metadata": {},
   "outputs": [],
   "source": [
    "with tf.name_scope('input'):\n",
    "    X = tf.placeholder(\"float\", [None, num_input])\n",
    "with tf.name_scope('output'):\n",
    "    Y = tf.placeholder(\"float\", [None, num_output])"
   ]
  },
  {
   "cell_type": "code",
   "execution_count": null,
   "metadata": {},
   "outputs": [],
   "source": [
    "with tf.name_scope(\"weights\"):\n",
    "    weights = {\n",
    "        \"w1\" : tf.Variable(tf.truncated_normal([num_input, num_hidden1], stddev=0.1), name=\"weigth_1\"),\n",
    "        \"w2\" : tf.Variable(tf.truncated_normal([num_hidden1, num_hidden2], stddev=0.1), nmae=\"weigth_2\"),\n",
    "        \"w3\" : tf.Variable(tf.truncated_normal([num_hidden2, num_hidden_3], stddev=0.1), name=\"weigth_3\"),\n",
    "        \"out\" : tf.Variable(tf.truncated_normal([num_hidden_3, num_output], stddev=0.1), name=\"out\")\n",
    "    }"
   ]
  },
  {
   "cell_type": "code",
   "execution_count": null,
   "metadata": {},
   "outputs": [],
   "source": [
    "with tf.name_scope(\"biases\"):\n",
    "    biases = {\n",
    "        \"b1\" : tf.Variable(tf.constant(0.1, shape=[num_hidden1]), name=\"bias_1\"),\n",
    "        \"b2\" : tf.Variable(tf.constant(0.1, shape=[num_hidden2]), name=\"bias_2\"),\n",
    "        \"b3\" : tf.Variable(tf.constant(0.1, shape=[num_hidden_3]), name=\"bias_3\"),\n",
    "        \"out\" : tf.Variable(tf.constant(0.1, shape=[num_output]), name=\"bias_4\")\n",
    "    }"
   ]
  },
  {
   "cell_type": "markdown",
   "metadata": {},
   "source": [
    "## Forward propagation"
   ]
  },
  {
   "cell_type": "code",
   "execution_count": null,
   "metadata": {},
   "outputs": [],
   "source": [
    "with tf.name_scope(\"Model\"):\n",
    "    \n",
    "    with tf.name_scope(\"layer1\"):\n",
    "        layer_1 = tf.nn.relu(tf.add(tf.matmul(X, weights[\"w1\"]), biases[\"b1\"]))\n",
    "    \n",
    "    with tf.name_scope(\"layer2\"):\n",
    "        layer_2 = tf.nn.relu(tf.add(tf.matmul(layer_1, weights[\"w2\"]), biases[\"b2\"]))\n",
    "    \n",
    "    with tf.name_scope(\"layer3\"):\n",
    "        layer_3 = tf.nn.relu(tf.add(tf.matmul(layer_2, weights[\"w3\"]), biases[\"b3\"]))\n",
    "    \n",
    "    with tf.name_scope(\"output_layer\"):\n",
    "        y_hat = tf.nn.sigmoid(tf.matmul(layer_3, weights[\"out\"]) + biases[\"out\"])\n",
    "        "
   ]
  },
  {
   "cell_type": "markdown",
   "metadata": {},
   "source": [
    "## Computing loss and backpropagation"
   ]
  },
  {
   "cell_type": "code",
   "execution_count": null,
   "metadata": {},
   "outputs": [
    {
     "name": "stdout",
     "output_type": "stream",
     "text": [
      "WARNING:tensorflow:From c:\\Users\\cedric\\miniconda3\\envs\\tff\\lib\\site-packages\\tensorflow\\python\\util\\dispatch.py:1260: softmax_cross_entropy_with_logits (from tensorflow.python.ops.nn_ops) is deprecated and will be removed in a future version.\n",
      "Instructions for updating:\n",
      "\n",
      "Future major versions of TensorFlow will allow gradients to flow\n",
      "into the labels input on backprop by default.\n",
      "\n",
      "See `tf.nn.softmax_cross_entropy_with_logits_v2`.\n",
      "\n"
     ]
    }
   ],
   "source": [
    "with tf.name_scope(\"Loss\"):\n",
    "    loss = tf.reduce_mean(tf.nn.softmax_cross_entropy_with_logits(logits=y_hat, labels=Y))\n",
    "\n",
    "\n",
    "learning_rate = 1e-4\n",
    "optimizer = tf.train.AdamOptimizer(learning_rate).minimize(loss)\n",
    "\n",
    "\n",
    "with tf.name_scope(\"Accuracy\"):\n",
    "    predicted_digit = tf.argmax(y_hat, 1)\n",
    "    actual_digit = tf.argmax(Y, 1)\n",
    "    \n",
    "    correct_pred = tf.equal(predicted_digit, actual_digit)\n",
    "    accuracy = tf.reduce_mean(tf.cast(correct_pred, tf.float32))"
   ]
  },
  {
   "cell_type": "markdown",
   "metadata": {},
   "source": [
    "## Creating a summary"
   ]
  },
  {
   "cell_type": "code",
   "execution_count": null,
   "metadata": {},
   "outputs": [],
   "source": [
    "tf.summary.scalar(\"Accuracy\", accuracy)\n",
    "tf.summary.scalar(\"Loss\", loss)\n",
    "\n",
    "\n",
    "merge_summary = tf.summary.merge_all()"
   ]
  },
  {
   "cell_type": "markdown",
   "metadata": {},
   "source": [
    "## Training the model"
   ]
  },
  {
   "cell_type": "code",
   "execution_count": null,
   "metadata": {},
   "outputs": [],
   "source": [
    "init = tf.global_variables_initializer()\n",
    "\n",
    "\n",
    "learning_rate = 1e-4\n",
    "num_iterations = 1000\n",
    "batch_size = 128"
   ]
  },
  {
   "cell_type": "code",
   "execution_count": null,
   "metadata": {},
   "outputs": [
    {
     "ename": "AttributeError",
     "evalue": "'numpy.ndarray' object has no attribute 'next_batch'",
     "output_type": "error",
     "traceback": [
      "\u001b[1;31m---------------------------------------------------------------------------\u001b[0m",
      "\u001b[1;31mAttributeError\u001b[0m                            Traceback (most recent call last)",
      "\u001b[1;32mc:\\Users\\cedric\\Desktop\\CedAlgo\\StrategyLab\\tensorflow.ipynb Cell 39\u001b[0m line \u001b[0;36m7\n\u001b[0;32m      <a href='vscode-notebook-cell:/c%3A/Users/cedric/Desktop/CedAlgo/StrategyLab/tensorflow.ipynb#X53sZmlsZQ%3D%3D?line=2'>3</a>\u001b[0m summary_writer \u001b[39m=\u001b[39m tf\u001b[39m.\u001b[39msummary\u001b[39m.\u001b[39mFileWriter(\u001b[39m\"\u001b[39m\u001b[39m./graphs\u001b[39m\u001b[39m\"\u001b[39m, graph\u001b[39m=\u001b[39mtf\u001b[39m.\u001b[39mget_default_graph())\n\u001b[0;32m      <a href='vscode-notebook-cell:/c%3A/Users/cedric/Desktop/CedAlgo/StrategyLab/tensorflow.ipynb#X53sZmlsZQ%3D%3D?line=5'>6</a>\u001b[0m \u001b[39mfor\u001b[39;00m i \u001b[39min\u001b[39;00m \u001b[39mrange\u001b[39m(num_iterations):\n\u001b[1;32m----> <a href='vscode-notebook-cell:/c%3A/Users/cedric/Desktop/CedAlgo/StrategyLab/tensorflow.ipynb#X53sZmlsZQ%3D%3D?line=6'>7</a>\u001b[0m     batch_x, batch_y \u001b[39m=\u001b[39m mnist[\u001b[39m0\u001b[39;49m][\u001b[39m0\u001b[39;49m]\u001b[39m.\u001b[39;49mnext_batch(batch_size)\n\u001b[0;32m      <a href='vscode-notebook-cell:/c%3A/Users/cedric/Desktop/CedAlgo/StrategyLab/tensorflow.ipynb#X53sZmlsZQ%3D%3D?line=7'>8</a>\u001b[0m     sess\u001b[39m.\u001b[39mrun(optimizer, feed_dict\u001b[39m=\u001b[39m{X : batch_x, Y:batch_y})\n\u001b[0;32m     <a href='vscode-notebook-cell:/c%3A/Users/cedric/Desktop/CedAlgo/StrategyLab/tensorflow.ipynb#X53sZmlsZQ%3D%3D?line=9'>10</a>\u001b[0m     \u001b[39mif\u001b[39;00m i\u001b[39m%\u001b[39m\u001b[39m100\u001b[39m \u001b[39m==\u001b[39m \u001b[39m0\u001b[39m:\n",
      "\u001b[1;31mAttributeError\u001b[0m: 'numpy.ndarray' object has no attribute 'next_batch'"
     ]
    }
   ],
   "source": [
    "with tf.Session() as sess:\n",
    "    sess.run(init)\n",
    "    summary_writer = tf.summary.FileWriter(\"./graphs\", graph=tf.get_default_graph())\n",
    "    \n",
    "    \n",
    "    for i in range(num_iterations):\n",
    "        batch_x, batch_y = mnist[0][0].next_batch(batch_size)\n",
    "        sess.run(optimizer, feed_dict={X : batch_x, Y:batch_y})\n",
    "        \n",
    "        if i%100 == 0:\n",
    "            batch_loss, batch_accuracy, summary = sess.run([loss, accuracy, merge_summary],\n",
    "                                                           feed_dict={X:batch_x, Y:batch_y}\n",
    "                                                           )\n",
    "            summary_writer.add_summary(summary, i)\n",
    "            print(\"Iteration : {}, Loss : {}, Accuracy : {}\".format(i, batch_loss, accuracy))\n",
    "            "
   ]
  }
 ],
 "metadata": {
  "kernelspec": {
   "display_name": "base",
   "language": "python",
   "name": "python3"
  },
  "language_info": {
   "codemirror_mode": {
    "name": "ipython",
    "version": 3
   },
   "file_extension": ".py",
   "mimetype": "text/x-python",
   "name": "python",
   "nbconvert_exporter": "python",
   "pygments_lexer": "ipython3",
   "version": "3.9.18"
  },
  "orig_nbformat": 4
 },
 "nbformat": 4,
 "nbformat_minor": 2
}
