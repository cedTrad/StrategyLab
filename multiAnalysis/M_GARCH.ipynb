{
 "cells": [
  {
   "cell_type": "code",
   "execution_count": null,
   "metadata": {},
   "outputs": [],
   "source": [
    "def get_data(interval, start = \"2017\", end = \"2023\", assets = None):\n",
    "    data = Get_m_data(interval = \"1h\", assets=assets)\n",
    "    if assets is not None:\n",
    "        data_r = data.pct_change().loc[start : end, assets].dropna()\n",
    "    else:\n",
    "        data_r = data.pct_change().loc[start : end].dropna()\n",
    "    return data_r"
   ]
  },
  {
   "cell_type": "code",
   "execution_count": null,
   "metadata": {},
   "outputs": [],
   "source": [
    "RISKY_ASSETS = [\"BTC\", \"TWT\", \"QNT\"]\n",
    "START = \"2022\"\n",
    "END = \"2023\"\n",
    "\n",
    "data_r = get_data(interval=\"1d\", assets = RISKY_ASSETS)\n",
    "data_r.head()"
   ]
  },
  {
   "cell_type": "code",
   "execution_count": null,
   "metadata": {},
   "outputs": [],
   "source": [
    "data_r.plot(subplots = True, figsize = (15, 8))"
   ]
  },
  {
   "cell_type": "code",
   "execution_count": null,
   "metadata": {},
   "outputs": [],
   "source": [
    "coeffs = []\n",
    "cond_vol = []\n",
    "std_resids = []\n",
    "models = []\n",
    "\n",
    "for asset in data_r.columns:\n",
    "    model = arch_model(data_r[asset], mean=\"Constant\", vol=\"GARCH\", p=1, q=1)\n",
    "    model = model.fit(update_freq=0, disp=\"off\")\n",
    "    coeffs.append(model.params)\n",
    "    cond_vol.append(model.conditional_volatility)\n",
    "    std_resids.append(model.std_resid)\n",
    "    models.append(model)\n",
    "    "
   ]
  },
  {
   "cell_type": "code",
   "execution_count": null,
   "metadata": {},
   "outputs": [],
   "source": [
    "coeffs_df = pd.DataFrame(coeffs, index=data_r.columns)\n",
    "\n",
    "cond_vol_df = (\n",
    "    pd.DataFrame(cond_vol).transpose().set_axis(data_r.columns, axis=\"columns\")\n",
    ")\n",
    "\n",
    "std_resids_df = (\n",
    "    pd.DataFrame(std_resids).transpose().set_axis(data_r.columns, axis=\"columns\")\n",
    ")"
   ]
  },
  {
   "cell_type": "code",
   "execution_count": null,
   "metadata": {},
   "outputs": [],
   "source": [
    "R = (\n",
    "    std_resids_df.transpose().dot(std_resids_df).div(len(std_resids_df))\n",
    ")\n",
    "R"
   ]
  },
  {
   "cell_type": "code",
   "execution_count": null,
   "metadata": {},
   "outputs": [],
   "source": [
    "# Define objects\n",
    "\n",
    "diag = []\n",
    "\n",
    "D = np.zeros((len(RISKY_ASSETS), len(RISKY_ASSETS)))\n",
    "D\n",
    "\n",
    "for model in models:\n",
    "    diag.append(\n",
    "        model.forecast(horizon=1).variance.iloc[-1, 0]\n",
    "    )\n",
    "diag = np.sqrt(diag)\n",
    "    \n",
    "# Fill the diagonal of D with values from diag\n",
    "np.fill_diagonal(D, diag)\n",
    "    \n",
    "# Calculate the conditional covariance matrix\n",
    "H = np.matmul(np.matmul(D, R.values), D)\n",
    "\n",
    "H"
   ]
  },
  {
   "attachments": {},
   "cell_type": "markdown",
   "metadata": {},
   "source": [
    "# DCC-GARCH"
   ]
  },
  {
   "cell_type": "code",
   "execution_count": null,
   "metadata": {},
   "outputs": [],
   "source": [
    "%load_ext rpy2.ipython"
   ]
  },
  {
   "cell_type": "code",
   "execution_count": null,
   "metadata": {},
   "outputs": [],
   "source": [
    "%%R\n",
    "\n",
    "#install.packages('rmgarch', repos='http://cran.us.r-project.org')\n",
    "library(rmgarch)"
   ]
  },
  {
   "cell_type": "code",
   "execution_count": null,
   "metadata": {},
   "outputs": [],
   "source": [
    "%R -i data_r\n",
    "\n",
    "print(data_r)"
   ]
  },
  {
   "cell_type": "code",
   "execution_count": null,
   "metadata": {},
   "outputs": [],
   "source": [
    "# Define the model specification\n",
    "\n",
    "%R\n",
    "\n",
    "# define GARCH(1, 1) model\n",
    "\n",
    "univariate_spec <- ugarchspec(\n",
    "    mean.model == list(armaOrder = c(0, 0)),\n",
    "    variance.model == list(garchOrder = c(1, 1),\n",
    "                          model = \"sGARCH\"),\n",
    "    distribution.model == \"norm\"\n",
    ")\n",
    "\n",
    "# define DCC(1, 1) model\n",
    "n <- dim(data_r)[2]\n",
    "\n",
    "dcc_spec <- dccspec(\n",
    "    uspec = multispec(replicate(n, univariate_spec)),\n",
    "    dccOrder = c(1, 1),\n",
    "    distribution = \"mvnorm\"\n",
    ")\n",
    "\n"
   ]
  },
  {
   "cell_type": "code",
   "execution_count": null,
   "metadata": {},
   "outputs": [],
   "source": [
    "# Estimate the model\n",
    "\n",
    "%R\n",
    "\n",
    "dcc_fit <- dccfit(dcc_spec, data=data_r)\n",
    "dcc_fit"
   ]
  },
  {
   "cell_type": "code",
   "execution_count": null,
   "metadata": {},
   "outputs": [],
   "source": [
    "# Calculate the five-step ahead forecasts\n",
    "forecasts <- dccforecast(dcc_fit, n.head = 5)"
   ]
  },
  {
   "cell_type": "code",
   "execution_count": null,
   "metadata": {},
   "outputs": [],
   "source": [
    "%R\n",
    "# Conditional covariance matrix\n",
    "forecasts @ mforecast $ H"
   ]
  },
  {
   "cell_type": "code",
   "execution_count": null,
   "metadata": {},
   "outputs": [],
   "source": [
    "%R\n",
    "# Conditional correlation matrix\n",
    "forecasts @ mforecast $ R"
   ]
  },
  {
   "cell_type": "code",
   "execution_count": null,
   "metadata": {},
   "outputs": [],
   "source": [
    "%R\n",
    "# Proxy correlation process\n",
    "forecasts @ mforecast $ Q"
   ]
  },
  {
   "cell_type": "code",
   "execution_count": null,
   "metadata": {},
   "outputs": [],
   "source": [
    "%R\n",
    "# Conditional mean forecasts\n",
    "forecasts @ mforecast $ mu"
   ]
  }
 ],
 "metadata": {
  "language_info": {
   "name": "python"
  },
  "orig_nbformat": 4
 },
 "nbformat": 4,
 "nbformat_minor": 2
}
