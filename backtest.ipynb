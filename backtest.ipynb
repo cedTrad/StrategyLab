{
 "cells": [
  {
   "cell_type": "code",
   "execution_count": null,
   "metadata": {},
   "outputs": [],
   "source": [
    "import pandas as pd\n",
    "import numpy as np\n",
    "import sqlalchemy\n",
    "from datetime import datetime\n",
    "import time\n",
    "import ta\n",
    "\n",
    "from plot import *\n",
    "import plotly.express as px\n",
    "import plotly.graph_objects as go\n",
    "from plotly.subplots import make_subplots\n",
    "\n",
    "from data import db\n",
    "\n",
    "\n",
    "import warnings\n",
    "warnings.filterwarnings('ignore')\n",
    "\n",
    "%load_ext autoreload\n",
    "%autoreload 2\n",
    "\n",
    "\n",
    "\n",
    "SYMBOL = \"BTC\"\n",
    "START = \"2024\"\n",
    "END = \"2024\"\n",
    "\n",
    "DB = db.connect_db(\"database\", interval=\"1h\")\n",
    "data = DB.get_data(SYMBOL, START, END)\n",
    "#data = data.loc[start:end]\n"
   ]
  },
  {
   "cell_type": "code",
   "execution_count": null,
   "metadata": {},
   "outputs": [],
   "source": [
    "data.head()"
   ]
  },
  {
   "cell_type": "markdown",
   "metadata": {},
   "source": [
    "## Import Pipeline"
   ]
  },
  {
   "cell_type": "code",
   "execution_count": 24,
   "metadata": {},
   "outputs": [],
   "source": [
    "import joblib\n",
    "\n",
    "df = data.copy()\n",
    "\n",
    "pipe = joblib.load(\"fpipeline.pkl\")\n",
    "X = pipe.fit_transform(df)"
   ]
  },
  {
   "cell_type": "markdown",
   "metadata": {},
   "source": [
    "## Model"
   ]
  },
  {
   "cell_type": "code",
   "execution_count": 25,
   "metadata": {},
   "outputs": [],
   "source": [
    "from catboost import CatBoostClassifier\n",
    "\n",
    "model = CatBoostClassifier()\n",
    "model.load_model(\"catboost_model.cbm\")\n",
    "\n",
    "# Utiliser le modèle importé pour faire des prédictions\n",
    "X['y'] = model.predict(X)\n",
    "X['proba'] = model.predict_proba(X)[:,1]"
   ]
  },
  {
   "cell_type": "code",
   "execution_count": null,
   "metadata": {},
   "outputs": [],
   "source": [
    "px.histogram(X['proba'])"
   ]
  },
  {
   "cell_type": "markdown",
   "metadata": {},
   "source": [
    "### Backtest"
   ]
  },
  {
   "cell_type": "code",
   "execution_count": null,
   "metadata": {},
   "outputs": [],
   "source": [
    "\n",
    "data = data.join(X).dropna()\n",
    "backtest = data.loc['2024-01-13' : '2024-10-13'].copy()\n",
    "\n",
    "\n",
    "backtest['pred'] = np.where(backtest['proba'] > 0.6, 1,\n",
    "                            np.where(backtest['proba'] < 0.4,\n",
    "                                     -1, 0)\n",
    "                            )\n",
    "\n",
    "backtest['stage_1_1'] = np.sign(data['stage_1'].diff().fillna(0))\n",
    "backtest['position'] = backtest['stage_1'] * backtest['pred']\n",
    "\n",
    "backtest['cum_ret'] = (1 + backtest['ret']).cumprod()\n",
    "backtest['strategy'] = backtest['ret'] * backtest['position']\n",
    "backtest['strategy_cum_ret'] = (1 + backtest['strategy']).cumprod()\n",
    "\n",
    "\n",
    "px.line(backtest[['cum_ret', 'strategy_cum_ret']])"
   ]
  },
  {
   "cell_type": "code",
   "execution_count": null,
   "metadata": {},
   "outputs": [],
   "source": [
    "pd.crosstab(backtest['y'], backtest['stage_1'], normalize=True)"
   ]
  },
  {
   "cell_type": "code",
   "execution_count": null,
   "metadata": {},
   "outputs": [],
   "source": [
    "pd.crosstab(backtest['y'], backtest['stage_1_1'])"
   ]
  },
  {
   "cell_type": "code",
   "execution_count": 33,
   "metadata": {},
   "outputs": [],
   "source": [
    "c1 = backtest['y'] == 1\n",
    "c2_1 = backtest['stage_1_1'] == 1\n",
    "c2_2 = backtest['stage_1_1'] == -1\n",
    "\n",
    "to_highlight_long = backtest.loc[c1 & c2_1].index.to_list()\n",
    "to_highlight_short = backtest.loc[c1 & c2_2].index.to_list()"
   ]
  },
  {
   "cell_type": "markdown",
   "metadata": {},
   "source": [
    "## Visualisation"
   ]
  },
  {
   "cell_type": "code",
   "execution_count": 31,
   "metadata": {},
   "outputs": [],
   "source": [
    "def compute_relative_sma_gaps(df, sma_windows, col='close'):\n",
    "    temp_cols = []\n",
    "    for i, window in enumerate(sma_windows):\n",
    "        df[f'sma{i+1}'] = df[col].rolling(window=window).mean()\n",
    "        temp_cols.append(f'sma{i+1}')\n",
    "        \n",
    "    for i in range(len(sma_windows) - 1):\n",
    "        df[f'gap_sma{i+1}_sma{i+2}'] = (df[f'sma{i+1}'] - df[f'sma{i+2}']) * 100 / df[f'sma{i+2}']\n",
    "    for i in range(1, len(sma_windows)):\n",
    "        df[f'rel_gap_sma1_sma{i+1}'] = (df['sma1'] - df[f'sma{i+1}']) * 100 / df[f'sma{i+1}']\n",
    "        df[f\"ret_{i}\"] = df['close'].pct_change(i)\n",
    "    return temp_cols  \n",
    "\n",
    "\n",
    "sma_windows=[3, 6, 12, 18, 24, 72, 24*6]\n",
    "cols_to_drop = compute_relative_sma_gaps(df=data, sma_windows=sma_windows)"
   ]
  },
  {
   "cell_type": "code",
   "execution_count": null,
   "metadata": {},
   "outputs": [],
   "source": [
    "fig = make_subplots(rows = 2, cols = 1, shared_xaxes = True, row_heights = [0.7, 0.3], vertical_spacing = 0.01)\n",
    "\n",
    "plot_candle(fig, col=1, row=1, data=data, symbol=SYMBOL)\n",
    "add_line(fig, data, feature=\"sma2\", name=\"sma2\", color=\"black\", col=1, row=1)\n",
    "add_line(fig, data, feature=\"sma5\", name=\"sma5\", col=1, row=1)\n",
    "add_line(fig, data, feature=\"sma6\", name=\"sma6\", col=1, row=1)\n",
    "add_line(fig, data, feature=\"sma7\", name=\"sma7\", col=1, row=1)\n",
    "\n",
    "\n",
    "\n",
    "fig.add_trace(\n",
    "    go.Scatter(\n",
    "        x=to_highlight_long,\n",
    "        y=[data.loc[datetime]['close'] for datetime in to_highlight_long],\n",
    "        mode='markers',\n",
    "        marker=dict(color='red', size=10, symbol='circle'),\n",
    "        name='Points à visualiser'\n",
    "    ),\n",
    "    row=1, col=1\n",
    ")\n",
    "\n",
    "fig.add_trace(\n",
    "    go.Scatter(\n",
    "        x=to_highlight_short,\n",
    "        y=[data.loc[datetime]['close'] for datetime in to_highlight_short],\n",
    "        mode='markers',\n",
    "        marker=dict(color='blue', size=10, symbol='circle'),\n",
    "        name='Points à visualiser'\n",
    "    ),\n",
    "    row=1, col=1\n",
    ")\n",
    "\n",
    "add_line(fig, data, feature=\"gap_sma5_sma6\", name=\"gap_sma5_sma6\", col=1, row=2)\n",
    "add_line(fig, data, feature=\"gap_sma6_sma7\", name=\"gap_sma6_sma7\", col=1, row=2)\n",
    "add_line(fig, data, feature=\"rel_gap_sma2_sma6\", name=\"rel_gap_sma2_sma6\", col=1, row=2)\n",
    "\n",
    "\n",
    "add_hline(fig=fig, y=3, col=1, row=2)\n",
    "add_hline(fig=fig, y=-3, col=1, row=2)\n",
    "add_hline(fig=fig, y=0, col=1, row=2)\n",
    "\n",
    "fig.update(layout_xaxis_rangeslider_visible=False)\n",
    "fig.update_layout(height = 1000 , width = 1500,\n",
    "                          legend = dict(orientation=\"h\",\n",
    "                                        yanchor=\"bottom\", y=1,\n",
    "                                        xanchor=\"right\", x=0.7),\n",
    "                          margin = {'t':0, 'b':0, 'l':10, 'r':0}\n",
    "                          )\n",
    "fig.update_layout(hovermode=\"x\")"
   ]
  }
 ],
 "metadata": {
  "kernelspec": {
   "display_name": "ml",
   "language": "python",
   "name": "python3"
  },
  "language_info": {
   "codemirror_mode": {
    "name": "ipython",
    "version": 3
   },
   "file_extension": ".py",
   "mimetype": "text/x-python",
   "name": "python",
   "nbconvert_exporter": "python",
   "pygments_lexer": "ipython3",
   "version": "3.10.14"
  }
 },
 "nbformat": 4,
 "nbformat_minor": 2
}
